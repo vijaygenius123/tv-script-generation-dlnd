{
 "cells": [
  {
   "cell_type": "markdown",
   "metadata": {},
   "source": [
    "# TV Script Generation\n",
    "In this project, you'll generate your own [Simpsons](https://en.wikipedia.org/wiki/The_Simpsons) TV scripts using RNNs.  You'll be using part of the [Simpsons dataset](https://www.kaggle.com/wcukierski/the-simpsons-by-the-data) of scripts from 27 seasons.  The Neural Network you'll build will generate a new TV script for a scene at [Moe's Tavern](https://simpsonswiki.com/wiki/Moe's_Tavern).\n",
    "## Get the Data\n",
    "The data is already provided for you.  You'll be using a subset of the original dataset.  It consists of only the scenes in Moe's Tavern.  This doesn't include other versions of the tavern, like \"Moe's Cavern\", \"Flaming Moe's\", \"Uncle Moe's Family Feed-Bag\", etc.."
   ]
  },
  {
   "cell_type": "code",
   "execution_count": 2,
   "metadata": {},
   "outputs": [],
   "source": [
    "\"\"\"\n",
    "DON'T MODIFY ANYTHING IN THIS CELL\n",
    "\"\"\"\n",
    "import helper\n",
    "\n",
    "data_dir = './data/simpsons/moes_tavern_lines.txt'\n",
    "text = helper.load_data(data_dir)\n",
    "# Ignore notice, since we don't use it for analysing the data\n",
    "text = text[81:]"
   ]
  },
  {
   "cell_type": "markdown",
   "metadata": {},
   "source": [
    "## Explore the Data\n",
    "Play around with `view_sentence_range` to view different parts of the data."
   ]
  },
  {
   "cell_type": "code",
   "execution_count": 3,
   "metadata": {},
   "outputs": [
    {
     "name": "stdout",
     "output_type": "stream",
     "text": [
      "Dataset Stats\n",
      "Roughly the number of unique words: 11492\n",
      "Number of scenes: 262\n",
      "Average number of sentences in each scene: 15.248091603053435\n",
      "Number of lines: 4257\n",
      "Average number of words in each line: 11.50434578341555\n",
      "\n",
      "The sentences 0 to 10:\n",
      "Moe_Szyslak: (INTO PHONE) Moe's Tavern. Where the elite meet to drink.\n",
      "Bart_Simpson: Eh, yeah, hello, is Mike there? Last name, Rotch.\n",
      "Moe_Szyslak: (INTO PHONE) Hold on, I'll check. (TO BARFLIES) Mike Rotch. Mike Rotch. Hey, has anybody seen Mike Rotch, lately?\n",
      "Moe_Szyslak: (INTO PHONE) Listen you little puke. One of these days I'm gonna catch you, and I'm gonna carve my name on your back with an ice pick.\n",
      "Moe_Szyslak: What's the matter Homer? You're not your normal effervescent self.\n",
      "Homer_Simpson: I got my problems, Moe. Give me another one.\n",
      "Moe_Szyslak: Homer, hey, you should not drink to forget your problems.\n",
      "Barney_Gumble: Yeah, you should only drink to enhance your social skills.\n",
      "\n",
      "\n"
     ]
    }
   ],
   "source": [
    "view_sentence_range = (0, 10)\n",
    "\n",
    "\"\"\"\n",
    "DON'T MODIFY ANYTHING IN THIS CELL\n",
    "\"\"\"\n",
    "import numpy as np\n",
    "\n",
    "print('Dataset Stats')\n",
    "print('Roughly the number of unique words: {}'.format(len({word: None for word in text.split()})))\n",
    "scenes = text.split('\\n\\n')\n",
    "print('Number of scenes: {}'.format(len(scenes)))\n",
    "sentence_count_scene = [scene.count('\\n') for scene in scenes]\n",
    "print('Average number of sentences in each scene: {}'.format(np.average(sentence_count_scene)))\n",
    "\n",
    "sentences = [sentence for scene in scenes for sentence in scene.split('\\n')]\n",
    "print('Number of lines: {}'.format(len(sentences)))\n",
    "word_count_sentence = [len(sentence.split()) for sentence in sentences]\n",
    "print('Average number of words in each line: {}'.format(np.average(word_count_sentence)))\n",
    "\n",
    "print()\n",
    "print('The sentences {} to {}:'.format(*view_sentence_range))\n",
    "print('\\n'.join(text.split('\\n')[view_sentence_range[0]:view_sentence_range[1]]))"
   ]
  },
  {
   "cell_type": "markdown",
   "metadata": {},
   "source": [
    "## Implement Preprocessing Functions\n",
    "The first thing to do to any dataset is preprocessing.  Implement the following preprocessing functions below:\n",
    "- Lookup Table\n",
    "- Tokenize Punctuation\n",
    "\n",
    "### Lookup Table\n",
    "To create a word embedding, you first need to transform the words to ids.  In this function, create two dictionaries:\n",
    "- Dictionary to go from the words to an id, we'll call `vocab_to_int`\n",
    "- Dictionary to go from the id to word, we'll call `int_to_vocab`\n",
    "\n",
    "Return these dictionaries in the following tuple `(vocab_to_int, int_to_vocab)`"
   ]
  },
  {
   "cell_type": "code",
   "execution_count": 4,
   "metadata": {},
   "outputs": [
    {
     "name": "stdout",
     "output_type": "stream",
     "text": [
      "Tests Passed\n"
     ]
    }
   ],
   "source": [
    "import numpy as np\n",
    "import problem_unittests as tests\n",
    "\n",
    "def create_lookup_tables(text):\n",
    "    \"\"\"\n",
    "    Create lookup tables for vocabulary\n",
    "    :param text: The text of tv scripts split into words\n",
    "    :return: A tuple of dicts (vocab_to_int, int_to_vocab)\n",
    "    \"\"\"\n",
    "    # TODO: Implement Function\n",
    "    vocab_to_int = {}\n",
    "    int_to_vocab = {}\n",
    "    for i, word in enumerate(set(text)):\n",
    "        vocab_to_int[word] = i\n",
    "        int_to_vocab[i] = word\n",
    "    \n",
    "    \n",
    "    return vocab_to_int, int_to_vocab\n",
    "\n",
    "\n",
    "\"\"\"\n",
    "DON'T MODIFY ANYTHING IN THIS CELL THAT IS BELOW THIS LINE\n",
    "\"\"\"\n",
    "tests.test_create_lookup_tables(create_lookup_tables)"
   ]
  },
  {
   "cell_type": "markdown",
   "metadata": {},
   "source": [
    "### Tokenize Punctuation\n",
    "We'll be splitting the script into a word array using spaces as delimiters.  However, punctuations like periods and exclamation marks make it hard for the neural network to distinguish between the word \"bye\" and \"bye!\".\n",
    "\n",
    "Implement the function `token_lookup` to return a dict that will be used to tokenize symbols like \"!\" into \"||Exclamation_Mark||\".  Create a dictionary for the following symbols where the symbol is the key and value is the token:\n",
    "- Period ( . )\n",
    "- Comma ( , )\n",
    "- Quotation Mark ( \" )\n",
    "- Semicolon ( ; )\n",
    "- Exclamation mark ( ! )\n",
    "- Question mark ( ? )\n",
    "- Left Parentheses ( ( )\n",
    "- Right Parentheses ( ) )\n",
    "- Dash ( -- )\n",
    "- Return ( \\n )\n",
    "\n",
    "This dictionary will be used to token the symbols and add the delimiter (space) around it.  This separates the symbols as it's own word, making it easier for the neural network to predict on the next word. Make sure you don't use a token that could be confused as a word. Instead of using the token \"dash\", try using something like \"||dash||\"."
   ]
  },
  {
   "cell_type": "code",
   "execution_count": 5,
   "metadata": {},
   "outputs": [
    {
     "name": "stdout",
     "output_type": "stream",
     "text": [
      "Tests Passed\n"
     ]
    }
   ],
   "source": [
    "def token_lookup():\n",
    "    \"\"\"\n",
    "    Generate a dict to turn punctuation into a token.\n",
    "    :return: Tokenize dictionary where the key is the punctuation and the value is the token\n",
    "    \"\"\"\n",
    "    # TODO: Implement Function\n",
    "    return {\n",
    "        '.': '||period||',\n",
    "        ',': '||comma||',\n",
    "        '\"': '||qutation||',\n",
    "        ';': '||semicolon||',\n",
    "        '!': '||exclamation||',\n",
    "        '?': '||question||',\n",
    "        '(': '||left_parentheses||',\n",
    "        ')': '||right_parentheses||',\n",
    "        '--': '||dash||',\n",
    "        '\\n': '||return||'\n",
    "    }\n",
    "\n",
    "\n",
    "\"\"\"\n",
    "DON'T MODIFY ANYTHING IN THIS CELL THAT IS BELOW THIS LINE\n",
    "\"\"\"\n",
    "tests.test_tokenize(token_lookup)"
   ]
  },
  {
   "cell_type": "markdown",
   "metadata": {},
   "source": [
    "## Preprocess all the data and save it\n",
    "Running the code cell below will preprocess all the data and save it to file."
   ]
  },
  {
   "cell_type": "code",
   "execution_count": 6,
   "metadata": {},
   "outputs": [],
   "source": [
    "\"\"\"\n",
    "DON'T MODIFY ANYTHING IN THIS CELL\n",
    "\"\"\"\n",
    "# Preprocess Training, Validation, and Testing Data\n",
    "helper.preprocess_and_save_data(data_dir, token_lookup, create_lookup_tables)"
   ]
  },
  {
   "cell_type": "markdown",
   "metadata": {},
   "source": [
    "# Check Point\n",
    "This is your first checkpoint. If you ever decide to come back to this notebook or have to restart the notebook, you can start from here. The preprocessed data has been saved to disk."
   ]
  },
  {
   "cell_type": "code",
   "execution_count": 7,
   "metadata": {},
   "outputs": [],
   "source": [
    "\"\"\"\n",
    "DON'T MODIFY ANYTHING IN THIS CELL\n",
    "\"\"\"\n",
    "import helper\n",
    "import numpy as np\n",
    "import problem_unittests as tests\n",
    "\n",
    "int_text, vocab_to_int, int_to_vocab, token_dict = helper.load_preprocess()"
   ]
  },
  {
   "cell_type": "markdown",
   "metadata": {},
   "source": [
    "## Build the Neural Network\n",
    "You'll build the components necessary to build a RNN by implementing the following functions below:\n",
    "- get_inputs\n",
    "- get_init_cell\n",
    "- get_embed\n",
    "- build_rnn\n",
    "- build_nn\n",
    "- get_batches\n",
    "\n",
    "### Check the Version of TensorFlow and Access to GPU"
   ]
  },
  {
   "cell_type": "code",
   "execution_count": 8,
   "metadata": {},
   "outputs": [
    {
     "name": "stdout",
     "output_type": "stream",
     "text": [
      "TensorFlow Version: 1.1.0\n"
     ]
    },
    {
     "name": "stderr",
     "output_type": "stream",
     "text": [
      "/Users/vijay/anaconda/envs/tensorflow/lib/python3.6/site-packages/ipykernel_launcher.py:14: UserWarning: No GPU found. Please use a GPU to train your neural network.\n",
      "  \n"
     ]
    }
   ],
   "source": [
    "\"\"\"\n",
    "DON'T MODIFY ANYTHING IN THIS CELL\n",
    "\"\"\"\n",
    "from distutils.version import LooseVersion\n",
    "import warnings\n",
    "import tensorflow as tf\n",
    "\n",
    "# Check TensorFlow Version\n",
    "assert LooseVersion(tf.__version__) >= LooseVersion('1.0'), 'Please use TensorFlow version 1.0 or newer'\n",
    "print('TensorFlow Version: {}'.format(tf.__version__))\n",
    "\n",
    "# Check for a GPU\n",
    "if not tf.test.gpu_device_name():\n",
    "    warnings.warn('No GPU found. Please use a GPU to train your neural network.')\n",
    "else:\n",
    "    print('Default GPU Device: {}'.format(tf.test.gpu_device_name()))"
   ]
  },
  {
   "cell_type": "markdown",
   "metadata": {},
   "source": [
    "### Input\n",
    "Implement the `get_inputs()` function to create TF Placeholders for the Neural Network.  It should create the following placeholders:\n",
    "- Input text placeholder named \"input\" using the [TF Placeholder](https://www.tensorflow.org/api_docs/python/tf/placeholder) `name` parameter.\n",
    "- Targets placeholder\n",
    "- Learning Rate placeholder\n",
    "\n",
    "Return the placeholders in the following tuple `(Input, Targets, LearningRate)`"
   ]
  },
  {
   "cell_type": "code",
   "execution_count": 9,
   "metadata": {},
   "outputs": [
    {
     "name": "stdout",
     "output_type": "stream",
     "text": [
      "Tests Passed\n"
     ]
    }
   ],
   "source": [
    "def get_inputs():\n",
    "    \"\"\"\n",
    "    Create TF Placeholders for input, targets, and learning rate.\n",
    "    :return: Tuple (input, targets, learning rate)\n",
    "    \"\"\"\n",
    "    # TODO: Implement Function\n",
    "    input = tf.placeholder(tf.int32, shape=[None, None], name='input')\n",
    "    targets = tf.placeholder(tf.int32, shape=[None, None], name='targets')\n",
    "    learning_rate = tf.placeholder(tf.float32, name='learning_rate')\n",
    "    return input,targets,learning_rate\n",
    "\n",
    "\n",
    "\"\"\"\n",
    "DON'T MODIFY ANYTHING IN THIS CELL THAT IS BELOW THIS LINE\n",
    "\"\"\"\n",
    "tests.test_get_inputs(get_inputs)"
   ]
  },
  {
   "cell_type": "markdown",
   "metadata": {},
   "source": [
    "### Build RNN Cell and Initialize\n",
    "Stack one or more [`BasicLSTMCells`](https://www.tensorflow.org/api_docs/python/tf/contrib/rnn/BasicLSTMCell) in a [`MultiRNNCell`](https://www.tensorflow.org/api_docs/python/tf/contrib/rnn/MultiRNNCell).\n",
    "- The Rnn size should be set using `rnn_size`\n",
    "- Initalize Cell State using the MultiRNNCell's [`zero_state()`](https://www.tensorflow.org/api_docs/python/tf/contrib/rnn/MultiRNNCell#zero_state) function\n",
    "    - Apply the name \"initial_state\" to the initial state using [`tf.identity()`](https://www.tensorflow.org/api_docs/python/tf/identity)\n",
    "\n",
    "Return the cell and initial state in the following tuple `(Cell, InitialState)`"
   ]
  },
  {
   "cell_type": "code",
   "execution_count": 10,
   "metadata": {},
   "outputs": [
    {
     "name": "stdout",
     "output_type": "stream",
     "text": [
      "Tests Passed\n"
     ]
    }
   ],
   "source": [
    "def get_init_cell(batch_size, rnn_size):\n",
    "    \"\"\"\n",
    "    Create an RNN Cell and initialize it.\n",
    "    :param batch_size: Size of batches\n",
    "    :param rnn_size: Size of RNNs\n",
    "    :return: Tuple (cell, initialize state)\n",
    "    \"\"\"\n",
    "    # TODO: Implement Function\n",
    "    lstm = tf.contrib.rnn.BasicLSTMCell(rnn_size)\n",
    "    cell = tf.contrib.rnn.MultiRNNCell([lstm])\n",
    "    initial_state = cell.zero_state(batch_size, tf.float32)\n",
    "    initial_state = tf.identity(initial_state, name=\"initial_state\")\n",
    "    return cell, initial_state\n",
    "\n",
    "\n",
    "\"\"\"\n",
    "DON'T MODIFY ANYTHING IN THIS CELL THAT IS BELOW THIS LINE\n",
    "\"\"\"\n",
    "tests.test_get_init_cell(get_init_cell)"
   ]
  },
  {
   "cell_type": "markdown",
   "metadata": {},
   "source": [
    "### Word Embedding\n",
    "Apply embedding to `input_data` using TensorFlow.  Return the embedded sequence."
   ]
  },
  {
   "cell_type": "code",
   "execution_count": 11,
   "metadata": {},
   "outputs": [
    {
     "name": "stdout",
     "output_type": "stream",
     "text": [
      "Tests Passed\n"
     ]
    }
   ],
   "source": [
    "def get_embed(input_data, vocab_size, embed_dim):\n",
    "    \"\"\"\n",
    "    Create embedding for <input_data>.\n",
    "    :param input_data: TF placeholder for text input.\n",
    "    :param vocab_size: Number of words in vocabulary.\n",
    "    :param embed_dim: Number of embedding dimensions\n",
    "    :return: Embedded input.\n",
    "    \"\"\"\n",
    "    # TODO: Implement Function\n",
    "    return tf.nn.embedding_lookup(tf.get_variable('embedding_weight', shape=[vocab_size, embed_dim]), input_data)\n",
    "\n",
    "\n",
    "\"\"\"\n",
    "DON'T MODIFY ANYTHING IN THIS CELL THAT IS BELOW THIS LINE\n",
    "\"\"\"\n",
    "tests.test_get_embed(get_embed)"
   ]
  },
  {
   "cell_type": "markdown",
   "metadata": {},
   "source": [
    "### Build RNN\n",
    "You created a RNN Cell in the `get_init_cell()` function.  Time to use the cell to create a RNN.\n",
    "- Build the RNN using the [`tf.nn.dynamic_rnn()`](https://www.tensorflow.org/api_docs/python/tf/nn/dynamic_rnn)\n",
    " - Apply the name \"final_state\" to the final state using [`tf.identity()`](https://www.tensorflow.org/api_docs/python/tf/identity)\n",
    "\n",
    "Return the outputs and final_state state in the following tuple `(Outputs, FinalState)` "
   ]
  },
  {
   "cell_type": "code",
   "execution_count": 12,
   "metadata": {},
   "outputs": [
    {
     "name": "stdout",
     "output_type": "stream",
     "text": [
      "Tests Passed\n"
     ]
    }
   ],
   "source": [
    "def build_rnn(cell, inputs):\n",
    "    \"\"\"\n",
    "    Create a RNN using a RNN Cell\n",
    "    :param cell: RNN Cell\n",
    "    :param inputs: Input text data\n",
    "    :return: Tuple (Outputs, Final State)\n",
    "    \"\"\"\n",
    "    # TODO: Implement Function\n",
    "    output, final_state = tf.nn.dynamic_rnn(cell, inputs, dtype=tf.float32)\n",
    "    return output, tf.identity(final_state, name='final_state')\n",
    "\n",
    "\n",
    "\"\"\"\n",
    "DON'T MODIFY ANYTHING IN THIS CELL THAT IS BELOW THIS LINE\n",
    "\"\"\"\n",
    "tests.test_build_rnn(build_rnn)"
   ]
  },
  {
   "cell_type": "markdown",
   "metadata": {},
   "source": [
    "### Build the Neural Network\n",
    "Apply the functions you implemented above to:\n",
    "- Apply embedding to `input_data` using your `get_embed(input_data, vocab_size, embed_dim)` function.\n",
    "- Build RNN using `cell` and your `build_rnn(cell, inputs)` function.\n",
    "- Apply a fully connected layer with a linear activation and `vocab_size` as the number of outputs.\n",
    "\n",
    "Return the logits and final state in the following tuple (Logits, FinalState) "
   ]
  },
  {
   "cell_type": "code",
   "execution_count": 13,
   "metadata": {},
   "outputs": [
    {
     "name": "stdout",
     "output_type": "stream",
     "text": [
      "Tests Passed\n"
     ]
    }
   ],
   "source": [
    "def build_nn(cell, rnn_size, input_data, vocab_size, embed_dim):\n",
    "    \"\"\"\n",
    "    Build part of the neural network\n",
    "    :param cell: RNN cell\n",
    "    :param rnn_size: Size of rnns\n",
    "    :param input_data: Input data\n",
    "    :param vocab_size: Vocabulary size\n",
    "    :param embed_dim: Number of embedding dimensions\n",
    "    :return: Tuple (Logits, FinalState)\n",
    "    \"\"\"\n",
    "    # TODO: Implement Function\n",
    "    embed_result = get_embed(input_data, vocab_size, embed_dim)\n",
    "    output, final_state = build_rnn(cell, embed_result)\n",
    "    logits = tf.contrib.layers.fully_connected(output, vocab_size, activation_fn=None)\n",
    "    return logits, final_state\n",
    "\n",
    "\"\"\"\n",
    "DON'T MODIFY ANYTHING IN THIS CELL THAT IS BELOW THIS LINE\n",
    "\"\"\"\n",
    "tests.test_build_nn(build_nn)"
   ]
  },
  {
   "cell_type": "markdown",
   "metadata": {},
   "source": [
    "### Batches\n",
    "Implement `get_batches` to create batches of input and targets using `int_text`.  The batches should be a Numpy array with the shape `(number of batches, 2, batch size, sequence length)`. Each batch contains two elements:\n",
    "- The first element is a single batch of **input** with the shape `[batch size, sequence length]`\n",
    "- The second element is a single batch of **targets** with the shape `[batch size, sequence length]`\n",
    "\n",
    "If you can't fill the last batch with enough data, drop the last batch.\n",
    "\n",
    "For exmple, `get_batches([1, 2, 3, 4, 5, 6, 7, 8, 9, 10, 11, 12, 13, 14, 15, 16, 17, 18, 19, 20], 3, 2)` would return a Numpy array of the following:\n",
    "```\n",
    "[\n",
    "  # First Batch\n",
    "  [\n",
    "    # Batch of Input\n",
    "    [[ 1  2], [ 7  8], [13 14]]\n",
    "    # Batch of targets\n",
    "    [[ 2  3], [ 8  9], [14 15]]\n",
    "  ]\n",
    "\n",
    "  # Second Batch\n",
    "  [\n",
    "    # Batch of Input\n",
    "    [[ 3  4], [ 9 10], [15 16]]\n",
    "    # Batch of targets\n",
    "    [[ 4  5], [10 11], [16 17]]\n",
    "  ]\n",
    "\n",
    "  # Third Batch\n",
    "  [\n",
    "    # Batch of Input\n",
    "    [[ 5  6], [11 12], [17 18]]\n",
    "    # Batch of targets\n",
    "    [[ 6  7], [12 13], [18  1]]\n",
    "  ]\n",
    "]\n",
    "```\n",
    "\n",
    "Notice that the last target value in the last batch is the first input value of the first batch. In this case, `1`. This is a common technique used when creating sequence batches, although it is rather unintuitive."
   ]
  },
  {
   "cell_type": "code",
   "execution_count": 14,
   "metadata": {},
   "outputs": [
    {
     "name": "stdout",
     "output_type": "stream",
     "text": [
      "Tests Passed\n"
     ]
    }
   ],
   "source": [
    "def get_batches(int_text, batch_size, seq_length):\n",
    "    \"\"\"\n",
    "    Return batches of input and target\n",
    "    :param int_text: Text with the words replaced by their ids\n",
    "    :param batch_size: The size of batch\n",
    "    :param seq_length: The length of sequence\n",
    "    :return: Batches as a Numpy array\n",
    "    \"\"\"\n",
    "    # TODO: Implement Function\n",
    "    num_batches = len(int_text) // (batch_size * seq_length)\n",
    "    x = np.array(int_text[:num_batches*batch_size*seq_length])\n",
    "    y = np.array(int_text[1:num_batches*batch_size*seq_length+1])\n",
    "    # the last target value in the last batch is the first input value of the first batc\n",
    "    y[-1]=x[0]\n",
    "    x_batches = np.split(x.reshape(batch_size, -1), num_batches, 1)\n",
    "    y_batches = np.split(y.reshape(batch_size, -1), num_batches, 1)\n",
    "    \n",
    "    return np.array(list(zip(x_batches, y_batches)))\n",
    "\n",
    "\n",
    "\"\"\"\n",
    "DON'T MODIFY ANYTHING IN THIS CELL THAT IS BELOW THIS LINE\n",
    "\"\"\"\n",
    "tests.test_get_batches(get_batches)"
   ]
  },
  {
   "cell_type": "markdown",
   "metadata": {},
   "source": [
    "## Neural Network Training\n",
    "### Hyperparameters\n",
    "Tune the following parameters:\n",
    "\n",
    "- Set `num_epochs` to the number of epochs.\n",
    "- Set `batch_size` to the batch size.\n",
    "- Set `rnn_size` to the size of the RNNs.\n",
    "- Set `embed_dim` to the size of the embedding.\n",
    "- Set `seq_length` to the length of sequence.\n",
    "- Set `learning_rate` to the learning rate.\n",
    "- Set `show_every_n_batches` to the number of batches the neural network should print progress."
   ]
  },
  {
   "cell_type": "code",
   "execution_count": 15,
   "metadata": {
    "collapsed": true
   },
   "outputs": [],
   "source": [
    "# Number of Epochs\n",
    "num_epochs = 200\n",
    "# Batch Size\n",
    "batch_size = 125\n",
    "# RNN Size\n",
    "rnn_size = 512\n",
    "# Embedding Dimension Size\n",
    "embed_dim = 200\n",
    "# Sequence Length\n",
    "seq_length = 12\n",
    "# Learning Rate\n",
    "learning_rate = 0.0015\n",
    "# Show stats for every n number of batches\n",
    "show_every_n_batches = 25\n",
    "\n",
    "\"\"\"\n",
    "DON'T MODIFY ANYTHING IN THIS CELL THAT IS BELOW THIS LINE\n",
    "\"\"\"\n",
    "save_dir = './save'"
   ]
  },
  {
   "cell_type": "markdown",
   "metadata": {},
   "source": [
    "### Build the Graph\n",
    "Build the graph using the neural network you implemented."
   ]
  },
  {
   "cell_type": "code",
   "execution_count": 16,
   "metadata": {},
   "outputs": [],
   "source": [
    "\"\"\"\n",
    "DON'T MODIFY ANYTHING IN THIS CELL\n",
    "\"\"\"\n",
    "from tensorflow.contrib import seq2seq\n",
    "\n",
    "train_graph = tf.Graph()\n",
    "with train_graph.as_default():\n",
    "    vocab_size = len(int_to_vocab)\n",
    "    input_text, targets, lr = get_inputs()\n",
    "    input_data_shape = tf.shape(input_text)\n",
    "    cell, initial_state = get_init_cell(input_data_shape[0], rnn_size)\n",
    "    logits, final_state = build_nn(cell, rnn_size, input_text, vocab_size, embed_dim)\n",
    "\n",
    "    # Probabilities for generating words\n",
    "    probs = tf.nn.softmax(logits, name='probs')\n",
    "\n",
    "    # Loss function\n",
    "    cost = seq2seq.sequence_loss(\n",
    "        logits,\n",
    "        targets,\n",
    "        tf.ones([input_data_shape[0], input_data_shape[1]]))\n",
    "\n",
    "    # Optimizer\n",
    "    optimizer = tf.train.AdamOptimizer(lr)\n",
    "\n",
    "    # Gradient Clipping\n",
    "    gradients = optimizer.compute_gradients(cost)\n",
    "    capped_gradients = [(tf.clip_by_value(grad, -1., 1.), var) for grad, var in gradients if grad is not None]\n",
    "    train_op = optimizer.apply_gradients(capped_gradients)"
   ]
  },
  {
   "cell_type": "markdown",
   "metadata": {},
   "source": [
    "## Train\n",
    "Train the neural network on the preprocessed data.  If you have a hard time getting a good loss, check the [forums](https://discussions.udacity.com/) to see if anyone is having the same problem."
   ]
  },
  {
   "cell_type": "code",
   "execution_count": 17,
   "metadata": {},
   "outputs": [
    {
     "name": "stdout",
     "output_type": "stream",
     "text": [
      "Epoch   0 Batch    0/46   train_loss = 8.822\n",
      "Epoch   0 Batch   25/46   train_loss = 6.422\n",
      "Epoch   1 Batch    4/46   train_loss = 6.260\n",
      "Epoch   1 Batch   29/46   train_loss = 5.904\n",
      "Epoch   2 Batch    8/46   train_loss = 5.675\n",
      "Epoch   2 Batch   33/46   train_loss = 5.665\n",
      "Epoch   3 Batch   12/46   train_loss = 5.332\n",
      "Epoch   3 Batch   37/46   train_loss = 5.225\n",
      "Epoch   4 Batch   16/46   train_loss = 5.276\n",
      "Epoch   4 Batch   41/46   train_loss = 5.190\n",
      "Epoch   5 Batch   20/46   train_loss = 4.816\n",
      "Epoch   5 Batch   45/46   train_loss = 4.964\n",
      "Epoch   6 Batch   24/46   train_loss = 4.906\n",
      "Epoch   7 Batch    3/46   train_loss = 4.848\n",
      "Epoch   7 Batch   28/46   train_loss = 4.688\n",
      "Epoch   8 Batch    7/46   train_loss = 4.636\n",
      "Epoch   8 Batch   32/46   train_loss = 4.365\n",
      "Epoch   9 Batch   11/46   train_loss = 4.516\n",
      "Epoch   9 Batch   36/46   train_loss = 4.375\n",
      "Epoch  10 Batch   15/46   train_loss = 4.435\n",
      "Epoch  10 Batch   40/46   train_loss = 4.422\n",
      "Epoch  11 Batch   19/46   train_loss = 4.302\n",
      "Epoch  11 Batch   44/46   train_loss = 4.183\n",
      "Epoch  12 Batch   23/46   train_loss = 4.120\n",
      "Epoch  13 Batch    2/46   train_loss = 4.151\n",
      "Epoch  13 Batch   27/46   train_loss = 4.134\n",
      "Epoch  14 Batch    6/46   train_loss = 3.923\n",
      "Epoch  14 Batch   31/46   train_loss = 3.995\n",
      "Epoch  15 Batch   10/46   train_loss = 3.985\n",
      "Epoch  15 Batch   35/46   train_loss = 3.842\n",
      "Epoch  16 Batch   14/46   train_loss = 3.921\n",
      "Epoch  16 Batch   39/46   train_loss = 3.793\n",
      "Epoch  17 Batch   18/46   train_loss = 3.672\n",
      "Epoch  17 Batch   43/46   train_loss = 3.581\n",
      "Epoch  18 Batch   22/46   train_loss = 3.616\n",
      "Epoch  19 Batch    1/46   train_loss = 3.565\n",
      "Epoch  19 Batch   26/46   train_loss = 3.490\n",
      "Epoch  20 Batch    5/46   train_loss = 3.422\n",
      "Epoch  20 Batch   30/46   train_loss = 3.452\n",
      "Epoch  21 Batch    9/46   train_loss = 3.533\n",
      "Epoch  21 Batch   34/46   train_loss = 3.297\n",
      "Epoch  22 Batch   13/46   train_loss = 3.496\n",
      "Epoch  22 Batch   38/46   train_loss = 3.201\n",
      "Epoch  23 Batch   17/46   train_loss = 3.300\n",
      "Epoch  23 Batch   42/46   train_loss = 3.089\n",
      "Epoch  24 Batch   21/46   train_loss = 3.164\n",
      "Epoch  25 Batch    0/46   train_loss = 3.098\n",
      "Epoch  25 Batch   25/46   train_loss = 3.160\n",
      "Epoch  26 Batch    4/46   train_loss = 3.071\n",
      "Epoch  26 Batch   29/46   train_loss = 2.946\n",
      "Epoch  27 Batch    8/46   train_loss = 2.947\n",
      "Epoch  27 Batch   33/46   train_loss = 2.875\n",
      "Epoch  28 Batch   12/46   train_loss = 2.943\n",
      "Epoch  28 Batch   37/46   train_loss = 2.850\n",
      "Epoch  29 Batch   16/46   train_loss = 2.952\n",
      "Epoch  29 Batch   41/46   train_loss = 2.757\n",
      "Epoch  30 Batch   20/46   train_loss = 2.751\n",
      "Epoch  30 Batch   45/46   train_loss = 2.684\n",
      "Epoch  31 Batch   24/46   train_loss = 2.733\n",
      "Epoch  32 Batch    3/46   train_loss = 2.557\n",
      "Epoch  32 Batch   28/46   train_loss = 2.617\n",
      "Epoch  33 Batch    7/46   train_loss = 2.578\n",
      "Epoch  33 Batch   32/46   train_loss = 2.549\n",
      "Epoch  34 Batch   11/46   train_loss = 2.618\n",
      "Epoch  34 Batch   36/46   train_loss = 2.535\n",
      "Epoch  35 Batch   15/46   train_loss = 2.583\n",
      "Epoch  35 Batch   40/46   train_loss = 2.477\n",
      "Epoch  36 Batch   19/46   train_loss = 2.645\n",
      "Epoch  36 Batch   44/46   train_loss = 2.428\n",
      "Epoch  37 Batch   23/46   train_loss = 2.356\n",
      "Epoch  38 Batch    2/46   train_loss = 2.406\n",
      "Epoch  38 Batch   27/46   train_loss = 2.369\n",
      "Epoch  39 Batch    6/46   train_loss = 2.334\n",
      "Epoch  39 Batch   31/46   train_loss = 2.296\n",
      "Epoch  40 Batch   10/46   train_loss = 2.367\n",
      "Epoch  40 Batch   35/46   train_loss = 2.292\n",
      "Epoch  41 Batch   14/46   train_loss = 2.254\n",
      "Epoch  41 Batch   39/46   train_loss = 2.154\n",
      "Epoch  42 Batch   18/46   train_loss = 2.223\n",
      "Epoch  42 Batch   43/46   train_loss = 1.975\n",
      "Epoch  43 Batch   22/46   train_loss = 2.161\n",
      "Epoch  44 Batch    1/46   train_loss = 2.067\n",
      "Epoch  44 Batch   26/46   train_loss = 2.074\n",
      "Epoch  45 Batch    5/46   train_loss = 1.961\n",
      "Epoch  45 Batch   30/46   train_loss = 2.039\n",
      "Epoch  46 Batch    9/46   train_loss = 2.064\n",
      "Epoch  46 Batch   34/46   train_loss = 1.946\n",
      "Epoch  47 Batch   13/46   train_loss = 2.067\n",
      "Epoch  47 Batch   38/46   train_loss = 1.903\n",
      "Epoch  48 Batch   17/46   train_loss = 1.865\n",
      "Epoch  48 Batch   42/46   train_loss = 1.765\n",
      "Epoch  49 Batch   21/46   train_loss = 1.915\n",
      "Epoch  50 Batch    0/46   train_loss = 1.870\n",
      "Epoch  50 Batch   25/46   train_loss = 1.923\n",
      "Epoch  51 Batch    4/46   train_loss = 1.849\n",
      "Epoch  51 Batch   29/46   train_loss = 1.843\n",
      "Epoch  52 Batch    8/46   train_loss = 1.796\n",
      "Epoch  52 Batch   33/46   train_loss = 1.761\n",
      "Epoch  53 Batch   12/46   train_loss = 1.790\n",
      "Epoch  53 Batch   37/46   train_loss = 1.747\n",
      "Epoch  54 Batch   16/46   train_loss = 1.806\n",
      "Epoch  54 Batch   41/46   train_loss = 1.658\n",
      "Epoch  55 Batch   20/46   train_loss = 1.733\n",
      "Epoch  55 Batch   45/46   train_loss = 1.595\n",
      "Epoch  56 Batch   24/46   train_loss = 1.700\n",
      "Epoch  57 Batch    3/46   train_loss = 1.565\n",
      "Epoch  57 Batch   28/46   train_loss = 1.638\n",
      "Epoch  58 Batch    7/46   train_loss = 1.608\n",
      "Epoch  58 Batch   32/46   train_loss = 1.632\n",
      "Epoch  59 Batch   11/46   train_loss = 1.563\n",
      "Epoch  59 Batch   36/46   train_loss = 1.604\n",
      "Epoch  60 Batch   15/46   train_loss = 1.549\n",
      "Epoch  60 Batch   40/46   train_loss = 1.465\n",
      "Epoch  61 Batch   19/46   train_loss = 1.606\n",
      "Epoch  61 Batch   44/46   train_loss = 1.453\n",
      "Epoch  62 Batch   23/46   train_loss = 1.466\n",
      "Epoch  63 Batch    2/46   train_loss = 1.433\n",
      "Epoch  63 Batch   27/46   train_loss = 1.514\n",
      "Epoch  64 Batch    6/46   train_loss = 1.506\n",
      "Epoch  64 Batch   31/46   train_loss = 1.452\n",
      "Epoch  65 Batch   10/46   train_loss = 1.481\n",
      "Epoch  65 Batch   35/46   train_loss = 1.500\n",
      "Epoch  66 Batch   14/46   train_loss = 1.354\n",
      "Epoch  66 Batch   39/46   train_loss = 1.376\n",
      "Epoch  67 Batch   18/46   train_loss = 1.425\n",
      "Epoch  67 Batch   43/46   train_loss = 1.258\n",
      "Epoch  68 Batch   22/46   train_loss = 1.393\n",
      "Epoch  69 Batch    1/46   train_loss = 1.356\n",
      "Epoch  69 Batch   26/46   train_loss = 1.368\n",
      "Epoch  70 Batch    5/46   train_loss = 1.236\n",
      "Epoch  70 Batch   30/46   train_loss = 1.348\n",
      "Epoch  71 Batch    9/46   train_loss = 1.297\n",
      "Epoch  71 Batch   34/46   train_loss = 1.307\n",
      "Epoch  72 Batch   13/46   train_loss = 1.304\n",
      "Epoch  72 Batch   38/46   train_loss = 1.246\n",
      "Epoch  73 Batch   17/46   train_loss = 1.141\n",
      "Epoch  73 Batch   42/46   train_loss = 1.122\n",
      "Epoch  74 Batch   21/46   train_loss = 1.250\n",
      "Epoch  75 Batch    0/46   train_loss = 1.215\n",
      "Epoch  75 Batch   25/46   train_loss = 1.199\n",
      "Epoch  76 Batch    4/46   train_loss = 1.182\n",
      "Epoch  76 Batch   29/46   train_loss = 1.184\n",
      "Epoch  77 Batch    8/46   train_loss = 1.169\n",
      "Epoch  77 Batch   33/46   train_loss = 1.150\n",
      "Epoch  78 Batch   12/46   train_loss = 1.170\n",
      "Epoch  78 Batch   37/46   train_loss = 1.137\n",
      "Epoch  79 Batch   16/46   train_loss = 1.102\n",
      "Epoch  79 Batch   41/46   train_loss = 1.092\n",
      "Epoch  80 Batch   20/46   train_loss = 1.084\n",
      "Epoch  80 Batch   45/46   train_loss = 0.970\n",
      "Epoch  81 Batch   24/46   train_loss = 1.053\n",
      "Epoch  82 Batch    3/46   train_loss = 0.972\n",
      "Epoch  82 Batch   28/46   train_loss = 1.031\n",
      "Epoch  83 Batch    7/46   train_loss = 1.072\n",
      "Epoch  83 Batch   32/46   train_loss = 1.056\n",
      "Epoch  84 Batch   11/46   train_loss = 0.990\n",
      "Epoch  84 Batch   36/46   train_loss = 1.031\n",
      "Epoch  85 Batch   15/46   train_loss = 1.005\n",
      "Epoch  85 Batch   40/46   train_loss = 0.955\n",
      "Epoch  86 Batch   19/46   train_loss = 1.039\n",
      "Epoch  86 Batch   44/46   train_loss = 0.949\n",
      "Epoch  87 Batch   23/46   train_loss = 0.897\n",
      "Epoch  88 Batch    2/46   train_loss = 0.893\n",
      "Epoch  88 Batch   27/46   train_loss = 0.911\n",
      "Epoch  89 Batch    6/46   train_loss = 0.994\n",
      "Epoch  89 Batch   31/46   train_loss = 0.967\n",
      "Epoch  90 Batch   10/46   train_loss = 0.999\n",
      "Epoch  90 Batch   35/46   train_loss = 1.002\n",
      "Epoch  91 Batch   14/46   train_loss = 0.908\n",
      "Epoch  91 Batch   39/46   train_loss = 0.882\n",
      "Epoch  92 Batch   18/46   train_loss = 0.957\n",
      "Epoch  92 Batch   43/46   train_loss = 0.841\n",
      "Epoch  93 Batch   22/46   train_loss = 0.858\n",
      "Epoch  94 Batch    1/46   train_loss = 0.943\n",
      "Epoch  94 Batch   26/46   train_loss = 0.877\n",
      "Epoch  95 Batch    5/46   train_loss = 0.811\n",
      "Epoch  95 Batch   30/46   train_loss = 0.862\n",
      "Epoch  96 Batch    9/46   train_loss = 0.879\n",
      "Epoch  96 Batch   34/46   train_loss = 0.891\n",
      "Epoch  97 Batch   13/46   train_loss = 0.894\n",
      "Epoch  97 Batch   38/46   train_loss = 0.855\n",
      "Epoch  98 Batch   17/46   train_loss = 0.777\n",
      "Epoch  98 Batch   42/46   train_loss = 0.775\n"
     ]
    },
    {
     "name": "stdout",
     "output_type": "stream",
     "text": [
      "Epoch  99 Batch   21/46   train_loss = 0.889\n",
      "Epoch 100 Batch    0/46   train_loss = 0.868\n",
      "Epoch 100 Batch   25/46   train_loss = 0.843\n",
      "Epoch 101 Batch    4/46   train_loss = 0.840\n",
      "Epoch 101 Batch   29/46   train_loss = 0.850\n",
      "Epoch 102 Batch    8/46   train_loss = 0.817\n",
      "Epoch 102 Batch   33/46   train_loss = 0.821\n",
      "Epoch 103 Batch   12/46   train_loss = 0.830\n",
      "Epoch 103 Batch   37/46   train_loss = 0.799\n",
      "Epoch 104 Batch   16/46   train_loss = 0.757\n",
      "Epoch 104 Batch   41/46   train_loss = 0.776\n",
      "Epoch 105 Batch   20/46   train_loss = 0.770\n",
      "Epoch 105 Batch   45/46   train_loss = 0.687\n",
      "Epoch 106 Batch   24/46   train_loss = 0.749\n",
      "Epoch 107 Batch    3/46   train_loss = 0.709\n",
      "Epoch 107 Batch   28/46   train_loss = 0.691\n",
      "Epoch 108 Batch    7/46   train_loss = 0.774\n",
      "Epoch 108 Batch   32/46   train_loss = 0.752\n",
      "Epoch 109 Batch   11/46   train_loss = 0.697\n",
      "Epoch 109 Batch   36/46   train_loss = 0.752\n",
      "Epoch 110 Batch   15/46   train_loss = 0.729\n",
      "Epoch 110 Batch   40/46   train_loss = 0.682\n",
      "Epoch 111 Batch   19/46   train_loss = 0.749\n",
      "Epoch 111 Batch   44/46   train_loss = 0.676\n",
      "Epoch 112 Batch   23/46   train_loss = 0.668\n",
      "Epoch 113 Batch    2/46   train_loss = 0.654\n",
      "Epoch 113 Batch   27/46   train_loss = 0.634\n",
      "Epoch 114 Batch    6/46   train_loss = 0.740\n",
      "Epoch 114 Batch   31/46   train_loss = 0.675\n",
      "Epoch 115 Batch   10/46   train_loss = 0.764\n",
      "Epoch 115 Batch   35/46   train_loss = 0.724\n",
      "Epoch 116 Batch   14/46   train_loss = 0.670\n",
      "Epoch 116 Batch   39/46   train_loss = 0.654\n",
      "Epoch 117 Batch   18/46   train_loss = 0.694\n",
      "Epoch 117 Batch   43/46   train_loss = 0.608\n",
      "Epoch 118 Batch   22/46   train_loss = 0.607\n",
      "Epoch 119 Batch    1/46   train_loss = 0.605\n",
      "Epoch 119 Batch   26/46   train_loss = 0.579\n",
      "Epoch 120 Batch    5/46   train_loss = 0.491\n",
      "Epoch 120 Batch   30/46   train_loss = 0.582\n",
      "Epoch 121 Batch    9/46   train_loss = 0.589\n",
      "Epoch 121 Batch   34/46   train_loss = 0.634\n",
      "Epoch 122 Batch   13/46   train_loss = 0.652\n",
      "Epoch 122 Batch   38/46   train_loss = 0.667\n",
      "Epoch 123 Batch   17/46   train_loss = 0.591\n",
      "Epoch 123 Batch   42/46   train_loss = 0.635\n",
      "Epoch 124 Batch   21/46   train_loss = 0.674\n",
      "Epoch 125 Batch    0/46   train_loss = 0.689\n",
      "Epoch 125 Batch   25/46   train_loss = 0.605\n",
      "Epoch 126 Batch    4/46   train_loss = 0.618\n",
      "Epoch 126 Batch   29/46   train_loss = 0.564\n",
      "Epoch 127 Batch    8/46   train_loss = 0.559\n",
      "Epoch 127 Batch   33/46   train_loss = 0.539\n",
      "Epoch 128 Batch   12/46   train_loss = 0.556\n",
      "Epoch 128 Batch   37/46   train_loss = 0.525\n",
      "Epoch 129 Batch   16/46   train_loss = 0.536\n",
      "Epoch 129 Batch   41/46   train_loss = 0.566\n",
      "Epoch 130 Batch   20/46   train_loss = 0.612\n",
      "Epoch 130 Batch   45/46   train_loss = 0.524\n",
      "Epoch 131 Batch   24/46   train_loss = 0.628\n",
      "Epoch 132 Batch    3/46   train_loss = 0.578\n",
      "Epoch 132 Batch   28/46   train_loss = 0.574\n",
      "Epoch 133 Batch    7/46   train_loss = 0.629\n",
      "Epoch 133 Batch   32/46   train_loss = 0.563\n",
      "Epoch 134 Batch   11/46   train_loss = 0.513\n",
      "Epoch 134 Batch   36/46   train_loss = 0.521\n",
      "Epoch 135 Batch   15/46   train_loss = 0.513\n",
      "Epoch 135 Batch   40/46   train_loss = 0.460\n",
      "Epoch 136 Batch   19/46   train_loss = 0.513\n",
      "Epoch 136 Batch   44/46   train_loss = 0.447\n",
      "Epoch 137 Batch   23/46   train_loss = 0.461\n",
      "Epoch 138 Batch    2/46   train_loss = 0.434\n",
      "Epoch 138 Batch   27/46   train_loss = 0.425\n",
      "Epoch 139 Batch    6/46   train_loss = 0.510\n",
      "Epoch 139 Batch   31/46   train_loss = 0.449\n",
      "Epoch 140 Batch   10/46   train_loss = 0.494\n",
      "Epoch 140 Batch   35/46   train_loss = 0.464\n",
      "Epoch 141 Batch   14/46   train_loss = 0.423\n",
      "Epoch 141 Batch   39/46   train_loss = 0.407\n",
      "Epoch 142 Batch   18/46   train_loss = 0.441\n",
      "Epoch 142 Batch   43/46   train_loss = 0.405\n",
      "Epoch 143 Batch   22/46   train_loss = 0.410\n",
      "Epoch 144 Batch    1/46   train_loss = 0.404\n",
      "Epoch 144 Batch   26/46   train_loss = 0.409\n",
      "Epoch 145 Batch    5/46   train_loss = 0.352\n",
      "Epoch 145 Batch   30/46   train_loss = 0.416\n",
      "Epoch 146 Batch    9/46   train_loss = 0.406\n",
      "Epoch 146 Batch   34/46   train_loss = 0.426\n",
      "Epoch 147 Batch   13/46   train_loss = 0.420\n",
      "Epoch 147 Batch   38/46   train_loss = 0.423\n",
      "Epoch 148 Batch   17/46   train_loss = 0.371\n",
      "Epoch 148 Batch   42/46   train_loss = 0.377\n",
      "Epoch 149 Batch   21/46   train_loss = 0.422\n",
      "Epoch 150 Batch    0/46   train_loss = 0.400\n",
      "Epoch 150 Batch   25/46   train_loss = 0.379\n",
      "Epoch 151 Batch    4/46   train_loss = 0.388\n",
      "Epoch 151 Batch   29/46   train_loss = 0.365\n",
      "Epoch 152 Batch    8/46   train_loss = 0.366\n",
      "Epoch 152 Batch   33/46   train_loss = 0.379\n",
      "Epoch 153 Batch   12/46   train_loss = 0.401\n",
      "Epoch 153 Batch   37/46   train_loss = 0.375\n",
      "Epoch 154 Batch   16/46   train_loss = 0.350\n",
      "Epoch 154 Batch   41/46   train_loss = 0.365\n",
      "Epoch 155 Batch   20/46   train_loss = 0.372\n",
      "Epoch 155 Batch   45/46   train_loss = 0.329\n",
      "Epoch 156 Batch   24/46   train_loss = 0.389\n",
      "Epoch 157 Batch    3/46   train_loss = 0.367\n",
      "Epoch 157 Batch   28/46   train_loss = 0.352\n",
      "Epoch 158 Batch    7/46   train_loss = 0.386\n",
      "Epoch 158 Batch   32/46   train_loss = 0.357\n",
      "Epoch 159 Batch   11/46   train_loss = 0.335\n",
      "Epoch 159 Batch   36/46   train_loss = 0.364\n",
      "Epoch 160 Batch   15/46   train_loss = 0.355\n",
      "Epoch 160 Batch   40/46   train_loss = 0.344\n",
      "Epoch 161 Batch   19/46   train_loss = 0.390\n",
      "Epoch 161 Batch   44/46   train_loss = 0.342\n",
      "Epoch 162 Batch   23/46   train_loss = 0.361\n",
      "Epoch 163 Batch    2/46   train_loss = 0.352\n",
      "Epoch 163 Batch   27/46   train_loss = 0.337\n",
      "Epoch 164 Batch    6/46   train_loss = 0.379\n",
      "Epoch 164 Batch   31/46   train_loss = 0.352\n",
      "Epoch 165 Batch   10/46   train_loss = 0.371\n",
      "Epoch 165 Batch   35/46   train_loss = 0.347\n",
      "Epoch 166 Batch   14/46   train_loss = 0.335\n",
      "Epoch 166 Batch   39/46   train_loss = 0.318\n",
      "Epoch 167 Batch   18/46   train_loss = 0.351\n",
      "Epoch 167 Batch   43/46   train_loss = 0.331\n",
      "Epoch 168 Batch   22/46   train_loss = 0.336\n",
      "Epoch 169 Batch    1/46   train_loss = 0.326\n",
      "Epoch 169 Batch   26/46   train_loss = 0.334\n",
      "Epoch 170 Batch    5/46   train_loss = 0.291\n",
      "Epoch 170 Batch   30/46   train_loss = 0.356\n",
      "Epoch 171 Batch    9/46   train_loss = 0.344\n",
      "Epoch 171 Batch   34/46   train_loss = 0.347\n",
      "Epoch 172 Batch   13/46   train_loss = 0.354\n",
      "Epoch 172 Batch   38/46   train_loss = 0.359\n",
      "Epoch 173 Batch   17/46   train_loss = 0.314\n",
      "Epoch 173 Batch   42/46   train_loss = 0.326\n",
      "Epoch 174 Batch   21/46   train_loss = 0.347\n",
      "Epoch 175 Batch    0/46   train_loss = 0.341\n",
      "Epoch 175 Batch   25/46   train_loss = 0.336\n",
      "Epoch 176 Batch    4/46   train_loss = 0.335\n",
      "Epoch 176 Batch   29/46   train_loss = 0.334\n",
      "Epoch 177 Batch    8/46   train_loss = 0.308\n",
      "Epoch 177 Batch   33/46   train_loss = 0.334\n",
      "Epoch 178 Batch   12/46   train_loss = 0.347\n",
      "Epoch 178 Batch   37/46   train_loss = 0.332\n",
      "Epoch 179 Batch   16/46   train_loss = 0.301\n",
      "Epoch 179 Batch   41/46   train_loss = 0.322\n",
      "Epoch 180 Batch   20/46   train_loss = 0.319\n",
      "Epoch 180 Batch   45/46   train_loss = 0.294\n",
      "Epoch 181 Batch   24/46   train_loss = 0.356\n",
      "Epoch 182 Batch    3/46   train_loss = 0.335\n",
      "Epoch 182 Batch   28/46   train_loss = 0.325\n",
      "Epoch 183 Batch    7/46   train_loss = 0.357\n",
      "Epoch 183 Batch   32/46   train_loss = 0.326\n",
      "Epoch 184 Batch   11/46   train_loss = 0.309\n",
      "Epoch 184 Batch   36/46   train_loss = 0.336\n",
      "Epoch 185 Batch   15/46   train_loss = 0.320\n",
      "Epoch 185 Batch   40/46   train_loss = 0.315\n",
      "Epoch 186 Batch   19/46   train_loss = 0.355\n",
      "Epoch 186 Batch   44/46   train_loss = 0.312\n",
      "Epoch 187 Batch   23/46   train_loss = 0.337\n",
      "Epoch 188 Batch    2/46   train_loss = 0.322\n",
      "Epoch 188 Batch   27/46   train_loss = 0.323\n",
      "Epoch 189 Batch    6/46   train_loss = 0.342\n",
      "Epoch 189 Batch   31/46   train_loss = 0.342\n",
      "Epoch 190 Batch   10/46   train_loss = 0.355\n",
      "Epoch 190 Batch   35/46   train_loss = 0.325\n",
      "Epoch 191 Batch   14/46   train_loss = 0.325\n",
      "Epoch 191 Batch   39/46   train_loss = 0.300\n",
      "Epoch 192 Batch   18/46   train_loss = 0.333\n",
      "Epoch 192 Batch   43/46   train_loss = 0.316\n",
      "Epoch 193 Batch   22/46   train_loss = 0.312\n",
      "Epoch 194 Batch    1/46   train_loss = 0.316\n",
      "Epoch 194 Batch   26/46   train_loss = 0.314\n",
      "Epoch 195 Batch    5/46   train_loss = 0.293\n",
      "Epoch 195 Batch   30/46   train_loss = 0.348\n",
      "Epoch 196 Batch    9/46   train_loss = 0.345\n",
      "Epoch 196 Batch   34/46   train_loss = 0.341\n",
      "Epoch 197 Batch   13/46   train_loss = 0.340\n",
      "Epoch 197 Batch   38/46   train_loss = 0.350\n",
      "Epoch 198 Batch   17/46   train_loss = 0.310\n"
     ]
    },
    {
     "name": "stdout",
     "output_type": "stream",
     "text": [
      "Epoch 198 Batch   42/46   train_loss = 0.315\n",
      "Epoch 199 Batch   21/46   train_loss = 0.337\n",
      "Model Trained and Saved\n"
     ]
    }
   ],
   "source": [
    "\"\"\"\n",
    "DON'T MODIFY ANYTHING IN THIS CELL\n",
    "\"\"\"\n",
    "batches = get_batches(int_text, batch_size, seq_length)\n",
    "\n",
    "with tf.Session(graph=train_graph) as sess:\n",
    "    sess.run(tf.global_variables_initializer())\n",
    "\n",
    "    for epoch_i in range(num_epochs):\n",
    "        state = sess.run(initial_state, {input_text: batches[0][0]})\n",
    "\n",
    "        for batch_i, (x, y) in enumerate(batches):\n",
    "            feed = {\n",
    "                input_text: x,\n",
    "                targets: y,\n",
    "                initial_state: state,\n",
    "                lr: learning_rate}\n",
    "            train_loss, state, _ = sess.run([cost, final_state, train_op], feed)\n",
    "\n",
    "            # Show every <show_every_n_batches> batches\n",
    "            if (epoch_i * len(batches) + batch_i) % show_every_n_batches == 0:\n",
    "                print('Epoch {:>3} Batch {:>4}/{}   train_loss = {:.3f}'.format(\n",
    "                    epoch_i,\n",
    "                    batch_i,\n",
    "                    len(batches),\n",
    "                    train_loss))\n",
    "\n",
    "    # Save Model\n",
    "    saver = tf.train.Saver()\n",
    "    saver.save(sess, save_dir)\n",
    "    print('Model Trained and Saved')"
   ]
  },
  {
   "cell_type": "markdown",
   "metadata": {},
   "source": [
    "## Save Parameters\n",
    "Save `seq_length` and `save_dir` for generating a new TV script."
   ]
  },
  {
   "cell_type": "code",
   "execution_count": 18,
   "metadata": {},
   "outputs": [],
   "source": [
    "\"\"\"\n",
    "DON'T MODIFY ANYTHING IN THIS CELL\n",
    "\"\"\"\n",
    "# Save parameters for checkpoint\n",
    "helper.save_params((seq_length, save_dir))"
   ]
  },
  {
   "cell_type": "markdown",
   "metadata": {},
   "source": [
    "# Checkpoint"
   ]
  },
  {
   "cell_type": "code",
   "execution_count": 19,
   "metadata": {},
   "outputs": [],
   "source": [
    "\"\"\"\n",
    "DON'T MODIFY ANYTHING IN THIS CELL\n",
    "\"\"\"\n",
    "import tensorflow as tf\n",
    "import numpy as np\n",
    "import helper\n",
    "import problem_unittests as tests\n",
    "\n",
    "_, vocab_to_int, int_to_vocab, token_dict = helper.load_preprocess()\n",
    "seq_length, load_dir = helper.load_params()"
   ]
  },
  {
   "cell_type": "markdown",
   "metadata": {},
   "source": [
    "## Implement Generate Functions\n",
    "### Get Tensors\n",
    "Get tensors from `loaded_graph` using the function [`get_tensor_by_name()`](https://www.tensorflow.org/api_docs/python/tf/Graph#get_tensor_by_name).  Get the tensors using the following names:\n",
    "- \"input:0\"\n",
    "- \"initial_state:0\"\n",
    "- \"final_state:0\"\n",
    "- \"probs:0\"\n",
    "\n",
    "Return the tensors in the following tuple `(InputTensor, InitialStateTensor, FinalStateTensor, ProbsTensor)` "
   ]
  },
  {
   "cell_type": "code",
   "execution_count": 20,
   "metadata": {},
   "outputs": [
    {
     "name": "stdout",
     "output_type": "stream",
     "text": [
      "Tests Passed\n"
     ]
    }
   ],
   "source": [
    "def get_tensors(loaded_graph):\n",
    "    \"\"\"\n",
    "    Get input, initial state, final state, and probabilities tensor from <loaded_graph>\n",
    "    :param loaded_graph: TensorFlow graph loaded from file\n",
    "    :return: Tuple (InputTensor, InitialStateTensor, FinalStateTensor, ProbsTensor)\n",
    "    \"\"\"\n",
    "    # TODO: Implement Function\n",
    "    input_tensor = loaded_graph.get_tensor_by_name('input:0')\n",
    "    initial_state_tensor = loaded_graph.get_tensor_by_name('initial_state:0')\n",
    "    final_state_tensor = loaded_graph.get_tensor_by_name('final_state:0')\n",
    "    probs_tensor = loaded_graph.get_tensor_by_name('probs:0')\n",
    "    return input_tensor, initial_state_tensor, final_state_tensor, probs_tensor\n",
    "\n",
    "\n",
    "\"\"\"\n",
    "DON'T MODIFY ANYTHING IN THIS CELL THAT IS BELOW THIS LINE\n",
    "\"\"\"\n",
    "tests.test_get_tensors(get_tensors)"
   ]
  },
  {
   "cell_type": "markdown",
   "metadata": {},
   "source": [
    "### Choose Word\n",
    "Implement the `pick_word()` function to select the next word using `probabilities`."
   ]
  },
  {
   "cell_type": "code",
   "execution_count": 21,
   "metadata": {},
   "outputs": [
    {
     "name": "stdout",
     "output_type": "stream",
     "text": [
      "Tests Passed\n"
     ]
    }
   ],
   "source": [
    "def pick_word(probabilities, int_to_vocab):\n",
    "    \"\"\"\n",
    "    Pick the next word in the generated text\n",
    "    :param probabilities: Probabilites of the next word\n",
    "    :param int_to_vocab: Dictionary of word ids as the keys and words as the values\n",
    "    :return: String of the predicted word\n",
    "    \"\"\"\n",
    "    # TODO: Implement Function\n",
    "    return np.random.choice(list(int_to_vocab.values()), p=probabilities)\n",
    "\n",
    "\"\"\"\n",
    "DON'T MODIFY ANYTHING IN THIS CELL THAT IS BELOW THIS LINE\n",
    "\"\"\"\n",
    "tests.test_pick_word(pick_word)"
   ]
  },
  {
   "cell_type": "markdown",
   "metadata": {},
   "source": [
    "## Generate TV Script\n",
    "This will generate the TV script for you.  Set `gen_length` to the length of TV script you want to generate."
   ]
  },
  {
   "cell_type": "code",
   "execution_count": 22,
   "metadata": {},
   "outputs": [
    {
     "name": "stdout",
     "output_type": "stream",
     "text": [
      "INFO:tensorflow:Restoring parameters from ./save\n",
      "moe_szyslak: huh...\n",
      "football_announcer: touchdown!\n",
      "homer_simpson: how about chairman moe's magic, that's it. you're me!\n",
      "homer_simpson:(sheepish) these charity address.\n",
      "legs: that's there.\n",
      "homer_simpson:(to homer) homer, i've been meanin' to empty that--\n",
      "homer_simpson:(whiny) but i need anything.\n",
      "moe_szyslak: just will be lisa, but only after they've bounced here.\n",
      "\n",
      "\n",
      "moe_szyslak: moe's tavern, presided over by burt joe moe's, but\" jamaican\" sadder and then.\"\n",
      "homer_simpson:(chuckles) could i know your god!\n",
      "moe_szyslak: so, i say the most clothespins a man could attach to see.\n",
      "\n",
      "\n",
      "grampa_simpson: if you ask me!\n",
      "homer_simpson:(reading)\" strokkur geysir.\"\n",
      "billy_the_kid: you, sing god, you're not gonna let anything happen to my big best couple of a hobo!\n",
      "carl_carlson: hey bar-boy, i want you to have a guy who doesn't get a laugh.\n",
      "\n",
      "\n",
      "homer_simpson:(sips it quite normal.\n",
      "homer_simpson: and you gave me\n"
     ]
    }
   ],
   "source": [
    "gen_length = 200\n",
    "# homer_simpson, moe_szyslak, or Barney_Gumble\n",
    "prime_word = 'moe_szyslak'\n",
    "\n",
    "\"\"\"\n",
    "DON'T MODIFY ANYTHING IN THIS CELL THAT IS BELOW THIS LINE\n",
    "\"\"\"\n",
    "loaded_graph = tf.Graph()\n",
    "with tf.Session(graph=loaded_graph) as sess:\n",
    "    # Load saved model\n",
    "    loader = tf.train.import_meta_graph(load_dir + '.meta')\n",
    "    loader.restore(sess, load_dir)\n",
    "\n",
    "    # Get Tensors from loaded model\n",
    "    input_text, initial_state, final_state, probs = get_tensors(loaded_graph)\n",
    "\n",
    "    # Sentences generation setup\n",
    "    gen_sentences = [prime_word + ':']\n",
    "    prev_state = sess.run(initial_state, {input_text: np.array([[1]])})\n",
    "\n",
    "    # Generate sentences\n",
    "    for n in range(gen_length):\n",
    "        # Dynamic Input\n",
    "        dyn_input = [[vocab_to_int[word] for word in gen_sentences[-seq_length:]]]\n",
    "        dyn_seq_length = len(dyn_input[0])\n",
    "\n",
    "        # Get Prediction\n",
    "        probabilities, prev_state = sess.run(\n",
    "            [probs, final_state],\n",
    "            {input_text: dyn_input, initial_state: prev_state})\n",
    "        \n",
    "        pred_word = pick_word(probabilities[dyn_seq_length-1], int_to_vocab)\n",
    "\n",
    "        gen_sentences.append(pred_word)\n",
    "    \n",
    "    # Remove tokens\n",
    "    tv_script = ' '.join(gen_sentences)\n",
    "    for key, token in token_dict.items():\n",
    "        ending = ' ' if key in ['\\n', '(', '\"'] else ''\n",
    "        tv_script = tv_script.replace(' ' + token.lower(), key)\n",
    "    tv_script = tv_script.replace('\\n ', '\\n')\n",
    "    tv_script = tv_script.replace('( ', '(')\n",
    "        \n",
    "    print(tv_script)"
   ]
  },
  {
   "cell_type": "markdown",
   "metadata": {},
   "source": [
    "# The TV Script is Nonsensical\n",
    "It's ok if the TV script doesn't make any sense.  We trained on less than a megabyte of text.  In order to get good results, you'll have to use a smaller vocabulary or get more data.  Luckly there's more data!  As we mentioned in the begging of this project, this is a subset of [another dataset](https://www.kaggle.com/wcukierski/the-simpsons-by-the-data).  We didn't have you train on all the data, because that would take too long.  However, you are free to train your neural network on all the data.  After you complete the project, of course.\n",
    "# Submitting This Project\n",
    "When submitting this project, make sure to run all the cells before saving the notebook. Save the notebook file as \"dlnd_tv_script_generation.ipynb\" and save it as a HTML file under \"File\" -> \"Download as\". Include the \"helper.py\" and \"problem_unittests.py\" files in your submission."
   ]
  }
 ],
 "metadata": {
  "kernelspec": {
   "display_name": "Python 3",
   "language": "python",
   "name": "python3"
  },
  "language_info": {
   "codemirror_mode": {
    "name": "ipython",
    "version": 3
   },
   "file_extension": ".py",
   "mimetype": "text/x-python",
   "name": "python",
   "nbconvert_exporter": "python",
   "pygments_lexer": "ipython3",
   "version": "3.6.1"
  },
  "widgets": {
   "state": {},
   "version": "1.1.2"
  }
 },
 "nbformat": 4,
 "nbformat_minor": 1
}
